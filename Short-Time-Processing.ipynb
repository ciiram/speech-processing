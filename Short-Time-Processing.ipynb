{
 "cells": [
  {
   "cell_type": "markdown",
   "metadata": {},
   "source": [
    "# Short Time Speech Processing\n",
    "Here we demonstrate energy computation and zero crossing rate computation. We use a recording of the word 'sita'. "
   ]
  },
  {
   "cell_type": "code",
   "execution_count": null,
   "metadata": {},
   "outputs": [],
   "source": [
    "import librosa\n",
    "import matplotlib.pyplot as plt\n",
    "import numpy as np\n",
    "\n",
    "signal, sampling_rate = librosa.load('sita.wav', sr=None)\n",
    "\n",
    "%matplotlib inline\n",
    "plt.plot(np.arange(len(signal)) / sampling_rate, signal)\n",
    "plt.xlabel(r'Time(s)')"
   ]
  },
  {
   "cell_type": "markdown",
   "metadata": {},
   "source": [
    "The signal is processed block by block. With each block multiplied by a window function. A common window is the Hamming window"
   ]
  },
  {
   "cell_type": "code",
   "execution_count": null,
   "metadata": {},
   "outputs": [],
   "source": [
    "window = librosa.filters.get_window('hann', Nx=512)\n",
    "window2 = librosa.filters.get_window('hamm', Nx=512)\n",
    "plt.figure()\n",
    "plt.plot(window)\n",
    "plt.plot(window2)\n",
    "plt.legend(['Hanning', 'Hamming'])\n",
    "plt.ylabel(r'$w[n]$')\n",
    "plt.xlabel(r'$n$')"
   ]
  },
  {
   "cell_type": "code",
   "execution_count": null,
   "metadata": {},
   "outputs": [],
   "source": [
    "512 * (1 / 16000)"
   ]
  },
  {
   "cell_type": "markdown",
   "metadata": {},
   "source": [
    "Let us show the processing of a section of this speech signal using the Hamming window\n"
   ]
  },
  {
   "cell_type": "code",
   "execution_count": null,
   "metadata": {},
   "outputs": [],
   "source": [
    "block_size = 512\n",
    "shift_size = 256\n",
    "num_blocks = 10\n",
    "\n",
    "short_segment = signal[sampling_rate: sampling_rate + num_blocks * block_size]\n",
    "\n",
    "plt.plot(np.arange(len(short_segment)) / sampling_rate, short_segment)\n",
    "\n",
    "for i in range(2 * num_blocks -1):\n",
    "    plt.plot((np.arange(len(window)) + i * shift_size) / sampling_rate, window)\n",
    "plt.xlim([0,.1])"
   ]
  },
  {
   "cell_type": "markdown",
   "metadata": {},
   "source": [
    "We will use `librosa` to compute the energy and zero crossing rate of the signal."
   ]
  },
  {
   "cell_type": "code",
   "execution_count": null,
   "metadata": {},
   "outputs": [],
   "source": [
    "rmse = librosa.feature.rms(y=signal, frame_length=512, hop_length=256)\n",
    "zcr = librosa.feature.zero_crossing_rate(y=signal, frame_length=512, hop_length=256)"
   ]
  },
  {
   "cell_type": "code",
   "execution_count": null,
   "metadata": {},
   "outputs": [],
   "source": [
    "plt.figure()\n",
    "plt.plot(np.arange(len(signal)) / sampling_rate, signal)\n",
    "plt.plot(np.arange(len(signal))[::256] / sampling_rate, rmse.T, 'r')\n",
    "plt.plot(np.arange(len(signal))[::256] / sampling_rate, zcr.T, 'g')\n",
    "plt.xlabel(r'Time(s)')\n",
    "plt.legend(['Signal', 'Energy', 'ZCR'])\n",
    "plt.xlim([1, 1.5])"
   ]
  },
  {
   "cell_type": "code",
   "execution_count": null,
   "metadata": {},
   "outputs": [],
   "source": []
  }
 ],
 "metadata": {
  "kernelspec": {
   "display_name": "Python 3 (ipykernel)",
   "language": "python",
   "name": "python3"
  },
  "language_info": {
   "codemirror_mode": {
    "name": "ipython",
    "version": 3
   },
   "file_extension": ".py",
   "mimetype": "text/x-python",
   "name": "python",
   "nbconvert_exporter": "python",
   "pygments_lexer": "ipython3",
   "version": "3.8.10"
  }
 },
 "nbformat": 4,
 "nbformat_minor": 2
}
