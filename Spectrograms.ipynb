{
 "cells": [
  {
   "cell_type": "markdown",
   "metadata": {},
   "source": [
    "# Spectrograms\n",
    "We demonstrate generation of spectrograms using `librosa`."
   ]
  },
  {
   "cell_type": "code",
   "execution_count": null,
   "metadata": {},
   "outputs": [],
   "source": [
    "import librosa\n",
    "import librosa.display\n",
    "import matplotlib.pyplot as plt\n",
    "import numpy as np\n",
    "\n",
    "signal, sampling_rate = librosa.load('sita.wav', sr=None)\n",
    "signal = signal[sampling_rate: int(1.5 * sampling_rate)]\n",
    "\n",
    "%matplotlib inline\n",
    "plt.plot(np.arange(len(signal)) / sampling_rate, signal)\n",
    "plt.xlabel(r'Time(s)')"
   ]
  },
  {
   "cell_type": "markdown",
   "metadata": {},
   "source": [
    "## Wideband and narrowband spectrograms\n",
    "\n",
    "The STFT is the DTFT of $x[m]w[\\hat{n} − m]$. It is a function of $\\hat{n}$ and the radian frequency $\\omega$.\n",
    "\n",
    "We assume $w[m]$ is causal and non-zero only in the range $0\\leq m \\leq L-1$\n",
    "    and we evaluate the STFT at a discrete set of frequencies using a finite duration window and move in steps of $R>1$. That is we set\n",
    "      \\begin{equation}\n",
    "        \\hat{n} = rR\\quad -\\infty<r<\\infty\n",
    "        \\end{equation}\n",
    "        \n",
    "  ### Sampling the STFT     \n",
    " We have\n",
    "    \\begin{equation}\n",
    "      \\tilde{X}[\\hat{n}, k]=\\tilde{X}_{\\hat{n}}(e^{j\\omega})\\Big|_{\\omega=\\frac{2\\pi k}{N}}\n",
    "    \\end{equation}\n",
    "     \\begin{equation}\n",
    "      \\tilde{X}[rR, k]=\\sum_{m=0}^{L-1} x[rR+m]w[m]e^{-j\\frac{2\\pi k}{N} m}\n",
    "    \\end{equation}\n",
    "     $\\tilde{X}[rR, k]$ is the DFT of $x[rR+m]w[m]$\n",
    "     \n",
    "     \n",
    " #### Constraints  imposed on $R$ and $N$\n",
    "1. $R\\leq L/(2C)$, $C$ is a constant that depends on the window. $C=1$ for a rectangular window and 2 for the Hamming window\n",
    "\n",
    "1. $N\\geq L$\n",
    "\n",
    "\n",
    "### Spectrograms\n",
    "1. Spectrograms are a display of the magnitude of the STFT\n",
    "1. We form an image from a matrix whose elements are\n",
    "    \\begin{equation}\n",
    "      S(t_r,f_k)=20\\log_{10}|\\tilde{X}[rR, k]|\n",
    "    \\end{equation}\n",
    "    where $t_r=rRT$ and $f_k=k/(NT)$\n",
    "1. If the analysis window is short we get wideband spectrograms. With good time resolution but poor frequency resolution\n",
    "1. When the widow is long we have narrowband spectrograms with good frequency resolution and poor time resolution\n",
    "  "
   ]
  },
  {
   "cell_type": "code",
   "execution_count": null,
   "metadata": {},
   "outputs": [],
   "source": [
    "# Set parameters for wideband \n",
    "L = 100\n",
    "R = int(L / 4)\n",
    "N = 128\n",
    "D = np.abs(librosa.stft(signal, n_fft=N, hop_length=R, win_length=L))\n",
    "librosa.display.specshow(librosa.amplitude_to_db(D, ref=np.max),\n",
    "                         y_axis='linear', x_axis='time', sr=sampling_rate)\n",
    "plt.ylim([0, 1000])\n"
   ]
  },
  {
   "cell_type": "code",
   "execution_count": null,
   "metadata": {},
   "outputs": [],
   "source": [
    "# Set parameters for narrowband \n",
    "L = 800\n",
    "R = int(L / 4)\n",
    "N = 1024\n",
    "D = np.abs(librosa.stft(signal, n_fft=N, hop_length=R, win_length=L))\n",
    "librosa.display.specshow(librosa.amplitude_to_db(D, ref=np.max),\n",
    "                         y_axis='linear', x_axis='time', sr=sampling_rate)\n",
    "plt.ylim([0, 1000])\n",
    "plt.savefig('specgram.jpg', dpi=300)"
   ]
  },
  {
   "cell_type": "code",
   "execution_count": null,
   "metadata": {},
   "outputs": [],
   "source": []
  }
 ],
 "metadata": {
  "kernelspec": {
   "display_name": "Python 3 (ipykernel)",
   "language": "python",
   "name": "python3"
  },
  "language_info": {
   "codemirror_mode": {
    "name": "ipython",
    "version": 3
   },
   "file_extension": ".py",
   "mimetype": "text/x-python",
   "name": "python",
   "nbconvert_exporter": "python",
   "pygments_lexer": "ipython3",
   "version": "3.7.6"
  }
 },
 "nbformat": 4,
 "nbformat_minor": 2
}
