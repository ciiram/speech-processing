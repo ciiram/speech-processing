{
 "cells": [
  {
   "cell_type": "markdown",
   "metadata": {},
   "source": [
    "## K-means Clustering\n",
    "As discussed in the lecture, K-means works by iterating through two steps:\n",
    "\n",
    "1. Assigning data points to closest center\n",
    "2. Recomputing cluster centers based on current assignment\n",
    "When the cluster assignments don't change, the algorithm has converged.\n",
    "\n",
    "### Example\n",
    "We will consider an example with 2D data generated from a 2 component Gaussian Mixture Model. It is often important to test algorithms with toy data to ensure our implementations are correct.\n",
    "#### Generating the toy data\n",
    "We will generate and plot 20 data points from a mixture of 2 Gaussians (10 data points from each component)."
   ]
  },
  {
   "cell_type": "code",
   "execution_count": null,
   "metadata": {},
   "outputs": [],
   "source": [
    "import numpy as np\n",
    "%matplotlib inline\n",
    "import matplotlib.pyplot as plt\n",
    "\n",
    "#Set the random seed for reproducability\n",
    "np.random.seed(123)\n",
    "\n",
    "#Generate the data\n",
    "X1 = np.random.multivariate_normal(np.array([1, 1]), np.diag([.1, .1]), 10)#10 points from the first GMM component\n",
    "X2 = np.random.multivariate_normal(np.array([3,3 ]), np.diag([.1, .1]), 10)#10 points from the second GMM component\n",
    "X = np.concatenate((X1, X2))\n",
    "\n",
    "#Plot the data\n",
    "plt.plot(X[:, 0], X[:, 1], 'bo', markersize=10)\n",
    "plt.xlim([0, 5]);\n",
    "plt.ylim([0, 5]);"
   ]
  },
  {
   "cell_type": "markdown",
   "metadata": {},
   "source": [
    "We see that the two distinct clusters are clearly visible. If we run the K-mean algorithm on these data we can recover these clusters. We write a function that implements the two steps in the K-means algorithm. The inputs to this algorithm are the data and the current cluster centers. It returns a cluster assignment based on the input centers, the cost after the assignment step and new cluster centers based on the new assignment. "
   ]
  },
  {
   "cell_type": "code",
   "execution_count": null,
   "metadata": {},
   "outputs": [],
   "source": [
    "def kmeans(data, centers):\n",
    "\n",
    "    new_cent = np.zeros(centers.shape)\n",
    "    #assignment step\n",
    "    dist = np.zeros((data.shape[0], centers.shape[0]))\n",
    "    for i in range(centers.shape[0]):\n",
    "        dist[:,i] = np.sum((data - centers[i,:])**2, 1)\n",
    "\n",
    "    assign = np.argmin(dist,1)\n",
    "\n",
    "    #compute new centers and cost\n",
    "    cost = 0\n",
    "    for i in range(centers.shape[0]):\n",
    "        new_cent[i,:] = np.mean(data[assign==i,:], 0)\n",
    "        cost += np.sum(np.sum((data[assign==i,:] - centers[i,:])**2, 1))\n",
    "\n",
    "    return new_cent, cost, assign"
   ]
  },
  {
   "cell_type": "markdown",
   "metadata": {},
   "source": [
    "Let us run through one iteration of the K-means algorithm."
   ]
  },
  {
   "cell_type": "code",
   "execution_count": null,
   "metadata": {},
   "outputs": [],
   "source": [
    "#We need a value of K\n",
    "K = 2 # we assume there are two clusters\n",
    "\n",
    "#random starting points\n",
    "centers = np.random.multivariate_normal(np.array([2, 2]), np.diag([1, 1]), K)\n",
    "\n",
    "#run one iteration of K-means\n",
    "new_cent, cost, assign = kmeans(X, centers)\n",
    "\n",
    "#plot the assignment based on input cluster centers\n",
    "col=['r', 'g'] #colour code for the two clusters\n",
    "plt.plot(X[assign==0,0], X[assign==0,1], col[0]+'o', markersize=10)\n",
    "plt.plot(X[assign==1,0], X[assign==1,1], col[1]+'o', markersize=10)\n",
    "plt.plot(centers[0,0], centers[0,1], col[0]+'x', markersize=10, mew=2) #input center\n",
    "plt.plot(centers[1,0], centers[1,1], col[1]+'x', markersize=10,mew=2) #input center\n",
    "plt.xlim([0,5]);\n",
    "plt.ylim([0,5]);"
   ]
  },
  {
   "cell_type": "code",
   "execution_count": null,
   "metadata": {},
   "outputs": [],
   "source": [
    "#Plot the new centers\n",
    "centers = new_cent # this will be the centers in the next iteration\n",
    "plt.plot(X[assign==0,0], X[assign==0,1], col[0]+'o', markersize=10)\n",
    "plt.plot(X[assign==1,0], X[assign==1,1], col[1]+'o', markersize=10)\n",
    "plt.plot(centers[0,0], centers[0,1], col[0]+'x', markersize=10, mew=2)\n",
    "plt.plot(centers[1,0], centers[1,1], col[1]+'x', markersize=10, mew=2) \n",
    "plt.xlim([0,5]);\n",
    "plt.ylim([0,5]);"
   ]
  },
  {
   "cell_type": "markdown",
   "metadata": {},
   "source": [
    "Write a for loop that calls the function kmeans for a number of iterations (say 4) and monitor any change in cluster assignment."
   ]
  },
  {
   "cell_type": "code",
   "execution_count": null,
   "metadata": {},
   "outputs": [],
   "source": [
    "### Your code"
   ]
  },
  {
   "cell_type": "markdown",
   "metadata": {},
   "source": [
    "Write a while loop that allows you to terminate the algorithm when the cluster assignment doesn't change."
   ]
  },
  {
   "cell_type": "code",
   "execution_count": null,
   "metadata": {},
   "outputs": [],
   "source": [
    "### Your code"
   ]
  },
  {
   "cell_type": "markdown",
   "metadata": {},
   "source": [
    "### K-means for Image compression (Vector Quantization)\n",
    "\n",
    "The K-means algorithm can be used for image compression. In this example we will demonstrate it on an image of Mzee Jomo Kenyatta. We divide the image into 2-by-2 blocks which we treat as vectors in $\\mathbf{R}^4$. We then cluster these blocks and use the assigned cluster centers to represent the image.\n",
    "\n",
    "We will use the Python Imaging Library (PIL) to access the image. We will also use the scikit-learn toolbox of implementations of machine learning algorithms for K-means."
   ]
  },
  {
   "cell_type": "code",
   "execution_count": null,
   "metadata": {},
   "outputs": [],
   "source": [
    "import PIL\n",
    "from sklearn.cluster import KMeans\n",
    "import matplotlib.cm as cm # colour map to display grayscale image\n",
    "\n",
    "#Obtain the image\n",
    "img = PIL.Image.open('ADFL.JPG')\n",
    "\n",
    "# Display the image\n",
    "plt.imshow(np.asarray(img), cmap = cm.Greys_r)"
   ]
  },
  {
   "cell_type": "code",
   "execution_count": null,
   "metadata": {},
   "outputs": [],
   "source": [
    "A = np.asarray(img)\n",
    "print(A.shape)"
   ]
  },
  {
   "cell_type": "markdown",
   "metadata": {},
   "source": [
    "We need to get the 2-by-2 blocks from the image array and flatten them to vectors in $\\mathbf{R}^4$ before running K means."
   ]
  },
  {
   "cell_type": "code",
   "execution_count": null,
   "metadata": {},
   "outputs": [],
   "source": [
    "#get the vectors\n",
    "px = img.size[0]\n",
    "vq = np.zeros((int((px * px)/4), 4))\n",
    "k = 0\n",
    "for i in range(0, A.shape[0], 2):\n",
    "    for j in range(0, A.shape[1], 2):\n",
    "        vq[k,:] = np.ndarray.flatten(A[i:i+2, j:j+2])\n",
    "        k += 1\n",
    "\n",
    "kmeans = KMeans(init='k-means++', n_clusters=3, n_init=10)\n",
    "kmeans.fit(vq)\n",
    "cent = kmeans.cluster_centers_"
   ]
  },
  {
   "cell_type": "markdown",
   "metadata": {},
   "source": [
    "Plot the quantized image"
   ]
  },
  {
   "cell_type": "code",
   "execution_count": null,
   "metadata": {},
   "outputs": [],
   "source": [
    "#quantized image\n",
    "img_mtx2 = np.zeros(img.size)\n",
    "k = 0\n",
    "for i in range(0, img.size[0], 2):\n",
    "    for j in range(0, img.size[1], 2):\n",
    "        img_mtx2[i:i+2, j:j+2] = np.reshape(np.round(cent[kmeans.predict(vq[k,:].reshape(1, -1))]),(2,2))\n",
    "        k+=1\n",
    "plt.imshow(img_mtx2, cmap = cm.Greys_r)"
   ]
  },
  {
   "cell_type": "code",
   "execution_count": null,
   "metadata": {},
   "outputs": [],
   "source": []
  }
 ],
 "metadata": {
  "kernelspec": {
   "display_name": "Python 3 (ipykernel)",
   "language": "python",
   "name": "python3"
  },
  "language_info": {
   "codemirror_mode": {
    "name": "ipython",
    "version": 3
   },
   "file_extension": ".py",
   "mimetype": "text/x-python",
   "name": "python",
   "nbconvert_exporter": "python",
   "pygments_lexer": "ipython3",
   "version": "3.7.6"
  }
 },
 "nbformat": 4,
 "nbformat_minor": 1
}
